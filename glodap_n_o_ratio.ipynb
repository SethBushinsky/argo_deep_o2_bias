{
 "cells": [
  {
   "cell_type": "code",
   "execution_count": 1,
   "metadata": {},
   "outputs": [],
   "source": [
    "import numpy as np\n",
    "import glob, os\n",
    "from pathlib import Path\n",
    "from datetime import datetime, date, time\n",
    "import pandas as pd\n",
    "import xarray as xr\n",
    "from scipy import interpolate\n",
    "import matplotlib.pyplot as plt\n",
    "import matplotlib.path as mpath\n",
    "from matplotlib import colorbar, colors\n",
    "import cartopy\n",
    "import cartopy.crs as ccrs\n",
    "import PyCO2SYS as pyco2\n",
    "import gsw\n",
    "# import float_data_processing as fl\n",
    "import carbon_utils\n",
    "import re"
   ]
  },
  {
   "cell_type": "code",
   "execution_count": 2,
   "metadata": {},
   "outputs": [],
   "source": [
    "# Set the paths\n",
    "output_dir = 'output/'\n",
    "data_dir = 'data/'\n",
    "\n",
    "#check directories exist\n",
    "if not os.path.isdir('output'):\n",
    "    os.mkdir('output')\n",
    "if not os.path.isdir('data'):\n",
    "    os.mkdir('data')\n",
    "\n",
    "# Check for a glodap_offsets_plots directory, create if it does not exist\n",
    "offset_dir = output_dir + 'glodap_offset_plots/'\n",
    "if not os.path.isdir(offset_dir):\n",
    "    os.mkdir(offset_dir)"
   ]
  },
  {
   "cell_type": "code",
   "execution_count": 3,
   "metadata": {},
   "outputs": [],
   "source": [
    "# read in a user-created text file to point to local directories to avoid having to change this every time \n",
    "# we update code\n",
    "lines=[]\n",
    "with open('path_file.txt') as f:\n",
    "    lines = f.readlines()\n",
    "    \n",
    "count = 0\n",
    "for line in lines:\n",
    "    count += 1\n",
    "    index = line.find(\"=\")\n",
    "    #print(f'line {count}: {line}')\n",
    "    #print(index)\n",
    "    #print(line[0:index])\n",
    "    line = line.rstrip()\n",
    "    if line[0:index].find(\"argo\")>=0:\n",
    "        argo_path=line[index+1:]\n",
    "    elif line[0:index].find(\"liar\")>=0:\n",
    "        liar_dir=line[index+1:]\n",
    "    elif line[0:index].find(\"matlab\")>=0:\n",
    "        matlab_dir=line[index+1:]\n",
    "\n",
    "#add derived float file directory within argo_path\n",
    "argo_path_derived = argo_path+'../derived/'\n",
    "if not os.path.isdir(argo_path_derived):\n",
    "    os.mkdir(argo_path_derived)"
   ]
  },
  {
   "cell_type": "code",
   "execution_count": 5,
   "metadata": {},
   "outputs": [
    {
     "ename": "NameError",
     "evalue": "name 'fl' is not defined",
     "output_type": "error",
     "traceback": [
      "\u001b[0;31m---------------------------------------------------------------------------\u001b[0m",
      "\u001b[0;31mNameError\u001b[0m                                 Traceback (most recent call last)",
      "\u001b[1;32m/Users/smb-uh/UHM_Ocean_BGC_Group Dropbox/Seth Bushinsky/Work/Manuscripts/2022_07 Deep O2 Bias/argo_deep_o2_bias/glodap_n_o_ratio.ipynb Cell 4\u001b[0m line \u001b[0;36m1\n\u001b[0;32m----> <a href='vscode-notebook-cell:/Users/smb-uh/UHM_Ocean_BGC_Group%20Dropbox/Seth%20Bushinsky/Work/Manuscripts/2022_07%20Deep%20O2%20Bias/argo_deep_o2_bias/glodap_n_o_ratio.ipynb#W4sZmlsZQ%3D%3D?line=0'>1</a>\u001b[0m gdap \u001b[39m=\u001b[39m fl\u001b[39m.\u001b[39mget_glodap(data_dir, year \u001b[39m=\u001b[39m \u001b[39m2022\u001b[39m)\n\u001b[1;32m      <a href='vscode-notebook-cell:/Users/smb-uh/UHM_Ocean_BGC_Group%20Dropbox/Seth%20Bushinsky/Work/Manuscripts/2022_07%20Deep%20O2%20Bias/argo_deep_o2_bias/glodap_n_o_ratio.ipynb#W4sZmlsZQ%3D%3D?line=1'>2</a>\u001b[0m gdap\u001b[39m.\u001b[39mG2longitude[gdap\u001b[39m.\u001b[39mG2longitude \u001b[39m<\u001b[39m \u001b[39m0.\u001b[39m] \u001b[39m=\u001b[39m gdap\u001b[39m.\u001b[39mG2longitude[gdap\u001b[39m.\u001b[39mG2longitude \u001b[39m<\u001b[39m \u001b[39m0.\u001b[39m] \u001b[39m+\u001b[39m \u001b[39m360.\u001b[39m\n\u001b[1;32m      <a href='vscode-notebook-cell:/Users/smb-uh/UHM_Ocean_BGC_Group%20Dropbox/Seth%20Bushinsky/Work/Manuscripts/2022_07%20Deep%20O2%20Bias/argo_deep_o2_bias/glodap_n_o_ratio.ipynb#W4sZmlsZQ%3D%3D?line=2'>3</a>\u001b[0m \u001b[39m#set flagged data to NaN (is this needed? or masked array better?)\u001b[39;00m\n",
      "\u001b[0;31mNameError\u001b[0m: name 'fl' is not defined"
     ]
    }
   ],
   "source": [
    "gdap = fl.get_glodap(data_dir, year = 2022)\n",
    "gdap.G2longitude[gdap.G2longitude < 0.] = gdap.G2longitude[gdap.G2longitude < 0.] + 360.\n",
    "#set flagged data to NaN (is this needed? or masked array better?)\n",
    "flagvars = ['G2salinity','G2oxygen','G2nitrate','G2tco2','G2talk','G2phts25p0']\n",
    "\n",
    "for v in flagvars:\n",
    "    flag = v+'f'\n",
    "    naninds = gdap[flag]!=2\n",
    "    gdap[v][naninds] = np.nan\n",
    "\n",
    "# GLODAP derived variables: density, MLD and pH\n",
    "\n",
    "#calc potential density\n",
    "# gdap['sigma0_calculated'] = carbon_utils.sigma0(gdap.G2salinity.values,gdap.G2temperature.values,\n",
    "#                                   gdap.G2longitude.values,gdap.G2latitude.values,gdap.G2pressure.values)\n",
    "# #calculate spice\n",
    "# gdap['spice'] = carbon_utils.spiciness0(gdap.G2salinity.values,gdap.G2temperature.values,\n",
    "#                                   gdap.G2longitude.values,gdap.G2latitude.values,gdap.G2pressure.values)\n",
    "\n",
    "#pH from LIPHR\n",
    "# calculate LIPHR pH at Glodap points below 1480 m and above 2020m (V: where does the depth restriction come in?)\n",
    "LIPHR_path = liar_dir\n",
    "Coordinates = np.stack((gdap.G2longitude.values.flatten(), \n",
    "                        gdap.G2latitude.values.flatten(), \n",
    "                        gdap.G2pressure.values.flatten()),\n",
    "                        axis=1)\n",
    "Measurements = np.stack((gdap.G2salinity.values.flatten(), \n",
    "                         gdap.G2temperature.values.flatten(), \n",
    "                         gdap.G2oxygen.values.flatten()),\n",
    "                         axis=1)\n",
    "MeasIDVec = [1, 7, 6]\n",
    "                                \n",
    "# results = carbon_utils.LIPHR_matlab(LIPHR_path,\n",
    "#                                     Coordinates.tolist(),\n",
    "#                                     Measurements.tolist(),\n",
    "#                                     MeasIDVec, \n",
    "#                                     OAAdjustTF = False)                                  \n",
    "\n",
    "# gdap['pH_in_situ_total'] = results\n",
    "# gdap.pH_in_situ_total[np.isnan(gdap.G2phts25p0)] = np.nan\n",
    "# # gdap pH 25C \n",
    "# gdap['pH_25C_TOTAL_ADJUSTED'] = carbon_utils.co2sys_pH25C(2300.,gdap.pH_in_situ_total,gdap.G2temperature,\n",
    "#                                                          gdap.G2salinity,gdap.G2pressure)\n",
    "# #set pH to nan where there was no original pH data from GLODAP\n",
    "# gdap.pH_25C_TOTAL_ADJUSTED[np.isnan(gdap.G2phts25p0)]=np.nan\n",
    "\n",
    "# #rename GLODAP comparison variables to match argo\n",
    "# gdap = gdap.rename(columns={'G2longitude':'LONGITUDE', 'G2latitude':'LATITUDE', 'G2pressure':'PRES_ADJUSTED',\n",
    "#                             'G2temperature':'TEMP_ADJUSTED','G2salinity':'PSAL_ADJUSTED', \n",
    "#                             'G2oxygen':'DOXY_ADJUSTED','G2nitrate':'NITRATE_ADJUSTED', 'G2tco2':'DIC', \n",
    "#                             'G2talk':'TALK_LIAR', 'G2MLD':'MLD','G2o2sat':'o2sat', 'G2PTMP':'PTMP', \n",
    "#                             'pH_in_situ_total':'PH_IN_SITU_TOTAL_ADJUSTED','sigma0_calculated':'PDENS'})\n",
    "\n",
    "gdap['obs_index']=gdap.reset_index().index"
   ]
  }
 ],
 "metadata": {
  "kernelspec": {
   "display_name": "float_bgc_synthesis_products",
   "language": "python",
   "name": "python3"
  },
  "language_info": {
   "codemirror_mode": {
    "name": "ipython",
    "version": 3
   },
   "file_extension": ".py",
   "mimetype": "text/x-python",
   "name": "python",
   "nbconvert_exporter": "python",
   "pygments_lexer": "ipython3",
   "version": "3.9.13"
  }
 },
 "nbformat": 4,
 "nbformat_minor": 2
}
