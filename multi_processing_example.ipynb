{
 "cells": [
  {
   "cell_type": "code",
   "execution_count": 5,
   "metadata": {},
   "outputs": [],
   "source": [
    "from multiprocessing import Pool\n",
    "# import defs\n",
    "import cube_ex\n",
    "import time\n"
   ]
  },
  {
   "cell_type": "code",
   "execution_count": 6,
   "metadata": {},
   "outputs": [
    {
     "name": "stdout",
     "output_type": "stream",
     "text": [
      "2.414213562373095\n",
      "12.23606797749979\n",
      "Program finished in 0.19222283399994922 seconds - using multiprocessing\n",
      "---\n"
     ]
    }
   ],
   "source": [
    "N = 5000000\n",
    "\n",
    "if __name__ == \"__main__\":\n",
    "    # first way, using multiprocessing\n",
    "    start_time = time.perf_counter()\n",
    "    with Pool() as pool:\n",
    "      result = pool.starmap(cube_ex.cube, [(5, 10), (2, 1)])\n",
    "    finish_time = time.perf_counter()\n",
    "    print(\"Program finished in {} seconds - using multiprocessing\".format(finish_time-start_time))\n",
    "    print(\"---\")\n",
    "\n",
    "\n",
    "    # # second way, serial computation\n",
    "    # start_time = time.perf_counter()\n",
    "    # result = []\n",
    "    # for x in range(10,N):\n",
    "    #   result.append(cube_ex.cube(x))\n",
    "    # finish_time = time.perf_counter()\n",
    "    # print(\"Program finished in {} seconds\".format(finish_time-start_time))"
   ]
  }
 ],
 "metadata": {
  "kernelspec": {
   "display_name": "float_bgc_synthesis_products",
   "language": "python",
   "name": "python3"
  },
  "language_info": {
   "codemirror_mode": {
    "name": "ipython",
    "version": 3
   },
   "file_extension": ".py",
   "mimetype": "text/x-python",
   "name": "python",
   "nbconvert_exporter": "python",
   "pygments_lexer": "ipython3",
   "version": "3.9.13"
  }
 },
 "nbformat": 4,
 "nbformat_minor": 2
}
