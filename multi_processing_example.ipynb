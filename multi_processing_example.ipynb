{
 "cells": [
  {
   "cell_type": "code",
   "execution_count": 1,
   "metadata": {},
   "outputs": [],
   "source": [
    "from multiprocessing import Pool\n",
    "# import defs\n",
    "import cube_ex\n",
    "import time\n"
   ]
  },
  {
   "cell_type": "code",
   "execution_count": 4,
   "metadata": {},
   "outputs": [
    {
     "name": "stdout",
     "output_type": "stream",
     "text": [
      "Program finished in 4.745092083000003 seconds - using multiprocessing\n",
      "---\n",
      "Program finished in 10.150170125000002 seconds\n"
     ]
    }
   ],
   "source": [
    "N = 50000000\n",
    "\n",
    "if __name__ == \"__main__\":\n",
    "    # first way, using multiprocessing\n",
    "    start_time = time.perf_counter()\n",
    "    with Pool() as pool:\n",
    "      result = pool.map(cube_ex.cube, range(10,N))\n",
    "    finish_time = time.perf_counter()\n",
    "    print(\"Program finished in {} seconds - using multiprocessing\".format(finish_time-start_time))\n",
    "    print(\"---\")\n",
    "    # second way, serial computation\n",
    "    start_time = time.perf_counter()\n",
    "    result = []\n",
    "    for x in range(10,N):\n",
    "      result.append(cube_ex.cube(x))\n",
    "    finish_time = time.perf_counter()\n",
    "    print(\"Program finished in {} seconds\".format(finish_time-start_time))"
   ]
  }
 ],
 "metadata": {
  "kernelspec": {
   "display_name": "float_bgc_synthesis_products",
   "language": "python",
   "name": "python3"
  },
  "language_info": {
   "codemirror_mode": {
    "name": "ipython",
    "version": 3
   },
   "file_extension": ".py",
   "mimetype": "text/x-python",
   "name": "python",
   "nbconvert_exporter": "python",
   "pygments_lexer": "ipython3",
   "version": "3.9.13"
  }
 },
 "nbformat": 4,
 "nbformat_minor": 2
}
